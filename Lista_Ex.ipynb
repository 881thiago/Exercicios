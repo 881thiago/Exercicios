{
  "nbformat": 4,
  "nbformat_minor": 0,
  "metadata": {
    "colab": {
      "provenance": [],
      "collapsed_sections": [
        "tyW3zWeRGsn0"
      ],
      "toc_visible": true,
      "authorship_tag": "ABX9TyNvxwwOA+2dP2ydIax8qln/",
      "include_colab_link": true
    },
    "kernelspec": {
      "name": "python3",
      "display_name": "Python 3"
    },
    "language_info": {
      "name": "python"
    }
  },
  "cells": [
    {
      "cell_type": "markdown",
      "metadata": {
        "id": "view-in-github",
        "colab_type": "text"
      },
      "source": [
        "<a href=\"https://colab.research.google.com/github/881thiago/Exercicios/blob/main/Lista_Ex.ipynb\" target=\"_parent\"><img src=\"https://colab.research.google.com/assets/colab-badge.svg\" alt=\"Open In Colab\"/></a>"
      ]
    },
    {
      "cell_type": "markdown",
      "source": [
        "# *Exercicios Aula 4*\n",
        "\n"
      ],
      "metadata": {
        "id": "k2WFC37XOm8N"
      }
    },
    {
      "cell_type": "markdown",
      "source": [
        "## FAÇA UM PROGRAMA QUE LEIA UM NÚMERO INTEIRO E O IMPRIMA.\n"
      ],
      "metadata": {
        "id": "0jG0-ccYO3_x"
      }
    },
    {
      "cell_type": "code",
      "execution_count": null,
      "metadata": {
        "colab": {
          "base_uri": "https://localhost:8080/"
        },
        "id": "OZTVv02TOlzf",
        "outputId": "eb01f3f6-d909-4150-ec71-d3a14c397092"
      },
      "outputs": [
        {
          "output_type": "stream",
          "name": "stdout",
          "text": [
            "Digite um numero inteiro:55\n",
            "O valor  55 , é do tipo inteiro\n"
          ]
        }
      ],
      "source": [
        "while True:\n",
        "  try:\n",
        "    i=int(input('Digite um numero inteiro:'))\n",
        "    tipo=type(i)\n",
        "    cond=int\n",
        "    if tipo==cond:\n",
        "      print ('O valor ',i,', é do tipo inteiro')\n",
        "  except ValueError:\n",
        "    print('O valor digitado não é um NUMERO INTEIRO')\n",
        "  break  "
      ]
    },
    {
      "cell_type": "markdown",
      "source": [
        "## FAÇA UM PROGRAMA QUE LEIA UM NÚMERO REAL E O IMPRIMA.\n"
      ],
      "metadata": {
        "id": "JmKpkrwLeYJp"
      }
    },
    {
      "cell_type": "code",
      "source": [
        "while True:\n",
        "  try:\n",
        "    r=float(input('Digite um numero real:'))\n",
        "    tipo=type(r)\n",
        "    cond=float\n",
        "    if tipo==cond:\n",
        "      print ('Valor de r é',r,'e, é do tipo real')\n",
        "  except ValueError:\n",
        "    print('O valor digitado não é um NUMERO REAL')\n",
        "  break  "
      ],
      "metadata": {
        "colab": {
          "base_uri": "https://localhost:8080/"
        },
        "id": "kBT8BNv-esUr",
        "outputId": "c7d7b3c4-9581-44af-87d2-400651f63340"
      },
      "execution_count": null,
      "outputs": [
        {
          "output_type": "stream",
          "name": "stdout",
          "text": [
            "Digite um numero real:15\n",
            "Valor de r é 15.0 e, é do tipo real\n"
          ]
        }
      ]
    },
    {
      "cell_type": "markdown",
      "source": [
        "## PEÇA AO USUÁRIO PARA DIGITAR TRÊS VALORES INTEIROS E IMPRIMA A SOMA DELES.\n"
      ],
      "metadata": {
        "id": "RaAQt8kFfgsD"
      }
    },
    {
      "cell_type": "code",
      "source": [
        "while True:  \n",
        "  try:\n",
        "    x=int(input(\"Digite um numero:\"))\n",
        "    y=int(input(\"Digite um numero:\"))\n",
        "    z=int(input(\"Digite um numero:\"))  \n",
        "    soma=x+y+z\n",
        "    print(f'A soma de {x}+{y}+{z} é igual á {soma}')\n",
        "  except ValueError:\n",
        "    print(f'O Valor digitado não é um numero.\\nFavor digitar um numero inteiro')\n",
        "  break \n",
        "  "
      ],
      "metadata": {
        "id": "UD03ywU8fnvW",
        "colab": {
          "base_uri": "https://localhost:8080/"
        },
        "outputId": "969033a7-8da1-4893-9f6f-ad4dedbc1c22"
      },
      "execution_count": null,
      "outputs": [
        {
          "output_type": "stream",
          "name": "stdout",
          "text": [
            "Digite um numero:5\n",
            "Digite um numero:3\n",
            "Digite um numero:2\n",
            "A soma de 5+3+2 é igual á 10\n"
          ]
        }
      ]
    },
    {
      "cell_type": "markdown",
      "source": [
        "##PEÇA AO USUÁRIO PARA DIGITAR UM NÚMERO REAL E IMPRIMA O RESULTADO DO QUADRADO DESSE NÚMERO.\n"
      ],
      "metadata": {
        "id": "qfn9XhgxGcyg"
      }
    },
    {
      "cell_type": "code",
      "source": [
        "while True:  \n",
        "  try:\n",
        "    x=float(input(\"Digite um numero:\"))\n",
        "    quad=x*x\n",
        "    print('O Valor ao quadrado é ',quad)\n",
        "  except ValueError:\n",
        "    print(f'O Valor digitado não é um numero.')\n",
        "  break "
      ],
      "metadata": {
        "id": "uXN_fKH3TGJs",
        "colab": {
          "base_uri": "https://localhost:8080/"
        },
        "outputId": "f8645fe3-c1a7-4083-c62e-659bcd22a81c"
      },
      "execution_count": null,
      "outputs": [
        {
          "output_type": "stream",
          "name": "stdout",
          "text": [
            "Digite um numero:g\n",
            "O Valor digitado não é um numero.\n"
          ]
        }
      ]
    },
    {
      "cell_type": "markdown",
      "source": [
        "##PEÇA AO USUÁRIO PARA DIGITAR UM NÚMERO REAL E IMPRIMA A QUINTA PARTE DESTE NÚMERO.\n"
      ],
      "metadata": {
        "id": "HsX74OI8Ghsv"
      }
    },
    {
      "cell_type": "code",
      "source": [
        "while True:  \n",
        "  try:\n",
        "    x=float(input(\"Digite um numero:\"))\n",
        "    q=x/5\n",
        "    print('A quinta parte desse numero é ',q)\n",
        "  except ValueError:\n",
        "    print(f'O Valor digitado não é um numero.')\n",
        "  break "
      ],
      "metadata": {
        "id": "vt41XjLyGmll",
        "colab": {
          "base_uri": "https://localhost:8080/"
        },
        "outputId": "62fd5870-1bdb-4f59-aa71-74b6a63500e9"
      },
      "execution_count": null,
      "outputs": [
        {
          "output_type": "stream",
          "name": "stdout",
          "text": [
            "Digite um numero:5\n",
            "A quinta parte desse numero é  1.0\n"
          ]
        }
      ]
    },
    {
      "cell_type": "markdown",
      "source": [
        "##LEIA UMA TEMPERATURA EM GRAUS CELSIUS E APRESENTE- A CONVERTIDA EM GRAUS FAHRENHEIT. \n"
      ],
      "metadata": {
        "id": "j2RbSIDiGnjr"
      }
    },
    {
      "cell_type": "code",
      "source": [
        "while True:  \n",
        "  try:\n",
        "    c=float(input('Digite a temperatura em celcius: '))\n",
        "    f=(9/5)*c + 32\n",
        "    print(f'A temperatura em fahrenheit é: {round(f,2)}°F ')\n",
        "  except ValueError:\n",
        "    print(f'A temperatura digitada não é Valida.')\n",
        "  break"
      ],
      "metadata": {
        "id": "aTRZYiZ2GvW7",
        "colab": {
          "base_uri": "https://localhost:8080/"
        },
        "outputId": "f18ad215-2cf2-4394-a2af-43269f857047"
      },
      "execution_count": null,
      "outputs": [
        {
          "output_type": "stream",
          "name": "stdout",
          "text": [
            "Digite a temperatura em celcius: 35\n",
            "A temperatura em fahrenheit é: 95.0°F \n"
          ]
        }
      ]
    },
    {
      "cell_type": "markdown",
      "source": [
        "##LEIA UMA TEMPERATURA EM GRAUS KELVIN E APRESENTE- A CONVERTIDA EM GRAUS CELSIUS"
      ],
      "metadata": {
        "id": "SKsy8GjEIcz5"
      }
    },
    {
      "cell_type": "code",
      "source": [
        "while True:  \n",
        "  try:\n",
        "    k=float(input('Digite a temperatura em Kelvin: '))\n",
        "    c=(k-32)*(5/9)\n",
        "    print(f'A temperatura em Celcius é: {round(c,2)}°C ')\n",
        "  except ValueError:\n",
        "    print(f'A temperatura digitada não é Valida.')\n",
        "  break"
      ],
      "metadata": {
        "id": "EGcwqPFkIfUr",
        "colab": {
          "base_uri": "https://localhost:8080/"
        },
        "outputId": "616f8da5-ba19-4a54-836e-54eba26c2308"
      },
      "execution_count": null,
      "outputs": [
        {
          "output_type": "stream",
          "name": "stdout",
          "text": [
            "Digite a temperatura em Kelvin: 95\n",
            "A temperatura em Celcius é: 35.0°C \n"
          ]
        }
      ]
    },
    {
      "cell_type": "markdown",
      "source": [
        "## LEIA UM ÂNGULO EM GRAUS E APRESENTE- O CONVERTIDO EM RADIANOS. \n"
      ],
      "metadata": {
        "id": "yHvkSjJeJC0k"
      }
    },
    {
      "cell_type": "code",
      "source": [
        "import math\n",
        "while True:  \n",
        "  try:\n",
        "    a=float(input('Digite o ângulo: '))\n",
        "    x=(2*math.pi/360)*a\n",
        "    print(f'O Radiano do ângulo {a} graus é: {round(x,2)}')\n",
        "  except ValueError:\n",
        "    print(f'O Valor digitado não é um numero.')\n",
        "  break "
      ],
      "metadata": {
        "colab": {
          "base_uri": "https://localhost:8080/"
        },
        "id": "Odk9dfwQJE1z",
        "outputId": "60b0ca31-9d52-4630-96de-15ef8178c83b"
      },
      "execution_count": null,
      "outputs": [
        {
          "output_type": "stream",
          "name": "stdout",
          "text": [
            "Digite o ângulo: 180\n",
            "O Radiano do ângulo 180.0 graus é: 3.14\n"
          ]
        }
      ]
    },
    {
      "cell_type": "code",
      "source": [
        "while True:  \n",
        "  try:\n",
        "    a=float(input('Digite o ângulo: '))\n",
        "    x=(2/360)*a\n",
        "    print(f'O Radiano do ângulo {a} graus é: {round(x,2)}pi')\n",
        "  except ValueError:\n",
        "    print(f'O Valor digitado não é um numero.')\n",
        "  break "
      ],
      "metadata": {
        "id": "F6VTyjA0N8ps",
        "colab": {
          "base_uri": "https://localhost:8080/"
        },
        "outputId": "4913826a-f040-4e44-eb88-1d520457e65f"
      },
      "execution_count": null,
      "outputs": [
        {
          "output_type": "stream",
          "name": "stdout",
          "text": [
            "Digite o ângulo: 180\n",
            "O Radiano do ângulo 180.0 graus é: 1.0pi\n"
          ]
        }
      ]
    },
    {
      "cell_type": "markdown",
      "source": [
        "##LEIA UM VALOR DE COMPRIMENTO EM POLEGADAS E APRESENTE-O               CONVERTIDO EM CENTÍMETROS. "
      ],
      "metadata": {
        "id": "ArVviapiOjvL"
      }
    },
    {
      "cell_type": "code",
      "source": [
        "while True:  \n",
        "  try:\n",
        "   x=float(input(\"Digite um comprimento em polegadas:\"))\n",
        "   c=x*2.54\n",
        "   print(f'O comprimento de {round(x,1)} polegadas em centimetros é {round(c,1)}')\n",
        "  except ValueError:\n",
        "   print(f'O Valor digitado não é um numero.\\nFavor digitar um numero inteiro')\n",
        "  break "
      ],
      "metadata": {
        "id": "twNA1ZjnOo3K",
        "colab": {
          "base_uri": "https://localhost:8080/"
        },
        "outputId": "61ccfa40-b982-4671-83b1-ac309fdaff01"
      },
      "execution_count": null,
      "outputs": [
        {
          "output_type": "stream",
          "name": "stdout",
          "text": [
            "Digite um comprimento em polegadas:11.556\n",
            "O comprimento de 11.6 polegadas em centimetros é 29.4\n"
          ]
        }
      ]
    },
    {
      "cell_type": "markdown",
      "source": [
        "##FAÇA A LEITURA DE TRÊS VALORES E APRESENTE COMO RESULTADO A SOMA DOS QUADRADOS DOS TRÊS VALORES LIDOS.\n"
      ],
      "metadata": {
        "id": "MEKBlCeVQNBp"
      }
    },
    {
      "cell_type": "code",
      "source": [
        "while True:  \n",
        "  try:\n",
        "    x=int(input(\"Digite um numero:\"))\n",
        "    y=int(input(\"Digite um numero:\"))\n",
        "    z=int(input(\"Digite um numero:\"))\n",
        "    x=x*x\n",
        "    y=y*y\n",
        "    z=z*z\n",
        "    soma=x+y+z\n",
        "    print(f'A soma dos numeros digitados ao quadrado é {soma}')\n",
        "  except ValueError:\n",
        "    print(f'O Valor digitado não é um numero.\\nFavor digitar um numero inteiro')\n",
        "  break "
      ],
      "metadata": {
        "id": "4xy4F-ntQbgg",
        "colab": {
          "base_uri": "https://localhost:8080/"
        },
        "outputId": "3d4907a3-4b30-4c29-b434-dbf7f14d7238"
      },
      "execution_count": null,
      "outputs": [
        {
          "output_type": "stream",
          "name": "stdout",
          "text": [
            "Digite um numero:h\n",
            "O Valor digitado não é um numero.\n",
            "Favor digitar um numero inteiro\n"
          ]
        }
      ]
    },
    {
      "cell_type": "markdown",
      "source": [
        "##11.\tPEÇA AO USUÁRIO QUATRO NOTAS, CALCULE A MEDIA ARITMÉTICA E IMPRIMA O RESULTADO.\n"
      ],
      "metadata": {
        "id": "dJyl0eM8Ny3r"
      }
    },
    {
      "cell_type": "code",
      "source": [
        "notas=[]\n",
        "i=1\n",
        "while len(notas)<4:\n",
        "  try:           \n",
        "    nota=int(input(f\"Digite a {i}º nota:\"))\n",
        "    notas.append(nota)\n",
        "    i+=1 \n",
        "  except ValueError:\n",
        "    print(f'O Valor digitado não é um numero.\\nFavor digitar um Valor Valido')    \n",
        "  #print(i)\n",
        "  # print(notas[i])    \n",
        "    \n",
        "media=sum(notas)/4\n",
        "if media<60:\n",
        "   print(f'A média é {media}\\nAluno REPROVADO')\n",
        "if media>=60:\n",
        "   print(f'A média é {media}\\nAluno APROVADO')\n",
        "\n",
        "      "
      ],
      "metadata": {
        "id": "aHhIbr8uN0nT",
        "colab": {
          "base_uri": "https://localhost:8080/"
        },
        "outputId": "3f572b0e-4ac5-407f-c448-224fbe04ea65"
      },
      "execution_count": null,
      "outputs": [
        {
          "output_type": "stream",
          "name": "stdout",
          "text": [
            "Digite a 1º nota:50\n",
            "Digite a 2º nota:40\n",
            "Digite a 3º nota:70\n",
            "Digite a 4º nota:90\n",
            "A média é 62.5\n",
            "Aluno APROVADO\n"
          ]
        }
      ]
    },
    {
      "cell_type": "markdown",
      "source": [
        "###Outro Modo"
      ],
      "metadata": {
        "id": "tyW3zWeRGsn0"
      }
    },
    {
      "cell_type": "code",
      "source": [
        "# semestre=['Primeira','Segunda','Terceira','Quarta']\n",
        "# notas=[0,1,2,3]\n",
        "# i=0\n",
        "# for nota in notas:                 \n",
        "#     notas[i]=int(input(f\"Digite a {semestre[i]} nota:\"))\n",
        "#     i=i+1\n",
        "#     print(i)\n",
        "# while True: \n",
        "#   try:\n",
        "#     media=int(nota)/4\n",
        "#     print(f'A media é {media}')\n",
        "#   except ValueError:\n",
        "#     i=i-1\n",
        "#     print(f'O Valor {str(notas[i])} não é um numero.\\nFavor digitar um Valor Valido')\n",
        "#   break "
      ],
      "metadata": {
        "id": "2wE8UwQDPHlm"
      },
      "execution_count": null,
      "outputs": []
    },
    {
      "cell_type": "markdown",
      "source": [
        "##LEIA UM NÚMERO INTEIRO E IMPRIMA O SEU ANTECESSOR E O SEU SUCESSOR.\n"
      ],
      "metadata": {
        "id": "k6c8GRCtdaKh"
      }
    },
    {
      "cell_type": "code",
      "source": [
        "while True:  \n",
        "  try:\n",
        "    x=int(input(\"Digite um numero:\"))\n",
        "    a=x-1\n",
        "    b=x+1\n",
        "    print(f'Do numero {x}, o {a} vem antes e o {b} vem depois')\n",
        "  except ValueError:\n",
        "    print(f'O Valor digitado não é um numero.\\nFavor digitar um Valor Valido')\n",
        "  break"
      ],
      "metadata": {
        "id": "eJ0Xg7vJdniy",
        "colab": {
          "base_uri": "https://localhost:8080/"
        },
        "outputId": "ed861b6a-3ec1-4add-ea83-d6ebc3c90262"
      },
      "execution_count": null,
      "outputs": [
        {
          "output_type": "stream",
          "name": "stdout",
          "text": [
            "Digite um numero:30\n",
            "Do numero 30, o 29 vem antes e o 31 vem depois\n"
          ]
        }
      ]
    },
    {
      "cell_type": "markdown",
      "source": [
        "##LEIA UM NÚMERO INTEIRO E IMPRIMA A SOMA DO SUCESSOR DE SEU TRIPLO COM O ANTECESSOR DE SEU DOBRO"
      ],
      "metadata": {
        "id": "jJDUEz_hdsSr"
      }
    },
    {
      "cell_type": "code",
      "source": [
        "while True:  \n",
        "  try:\n",
        "    num=int(input(\"Digite um número: \"))\n",
        "    sucx3=(3*num+1)\n",
        "    antx2=(2*num-1)\n",
        "    soma=(sucx3 + antx2)\n",
        "    print(f'Do numero {num}\\nO sucessor do seu tripro é {sucx3},\\nE o antecessor do seu dobro é {antx2},\\nA soma desses dois é {soma}')\n",
        "  except ValueError:\n",
        "    print(f'O Valor digitado não é um numero.\\nFavor digitar um Valor Valido')\n",
        "  break"
      ],
      "metadata": {
        "colab": {
          "base_uri": "https://localhost:8080/"
        },
        "id": "_VWKtAHu-atZ",
        "outputId": "8dae5a88-a194-4323-ee5e-8f58f0b5858e"
      },
      "execution_count": null,
      "outputs": [
        {
          "output_type": "stream",
          "name": "stdout",
          "text": [
            "Digite um número: 5\n",
            "Do numero 5,\n",
            "O sucessor do seu tripro é 16,\n",
            "E o antecessor do seu dobro é 9,\n",
            "A soma desses dois é 25\n"
          ]
        }
      ]
    },
    {
      "cell_type": "markdown",
      "source": [
        "##LEIA O TAMANHO DO LADO DE UM QUADRADO E IMPRIMA COMO RESULTADO A SUA ÁREA.\n"
      ],
      "metadata": {
        "id": "wDNOrDMLdxaD"
      }
    },
    {
      "cell_type": "code",
      "source": [
        "while True:  \n",
        "  try:\n",
        "    lado=float(input('Digite o tamanho do lado do quadrado: '))\n",
        "    area=lado*lado\n",
        "    print(f'A area do quadrado é {area}m²')\n",
        "  except ValueError:\n",
        "    print(f'O Valor digitado não é um numero.\\nFavor digitar um Valor Valido')\n",
        "  break"
      ],
      "metadata": {
        "id": "s4fSq7Ked5dE",
        "colab": {
          "base_uri": "https://localhost:8080/"
        },
        "outputId": "846969a4-a2c8-4d24-c248-3b1814b4184d"
      },
      "execution_count": null,
      "outputs": [
        {
          "output_type": "stream",
          "name": "stdout",
          "text": [
            "Digite o tamanho do lado do quadrado: 3\n",
            "A area do quadrado é 9.0m²\n"
          ]
        }
      ]
    },
    {
      "cell_type": "markdown",
      "source": [
        "##FAÇA UM PROGRAMA QUE LEIA O VALOR DE UM PRODUTO E IMPRIMA O VALOR COM DESCONTO, TENDO EM VISTA QUE O DESCONTO FOI DE 12 %\n"
      ],
      "metadata": {
        "id": "9UB4obkkd6Bc"
      }
    },
    {
      "cell_type": "code",
      "source": [
        "while True:  \n",
        "  try:\n",
        "    prod=float(input('Informe o valor do produto a ser aplicado o desconto de 12%: '))\n",
        "    desc=(prod*0.12)-prod\n",
        "    valordes=prod+desc\n",
        "    novovalor=prod-valordes\n",
        "    print(f'O novo valor do produto é R${round(novovalor, 2)}')\n",
        "    print(f'O total descontado é de -R${round(valordes, 2)}')\n",
        "  except ValueError:\n",
        "    print(f'O Valor digitado não é um numero.\\nFavor digitar um Valor Valido')\n",
        "  break"
      ],
      "metadata": {
        "id": "-_Xb6ow_eDCd",
        "colab": {
          "base_uri": "https://localhost:8080/"
        },
        "outputId": "53d64d81-3298-43a7-9158-9b393b0b64ff"
      },
      "execution_count": null,
      "outputs": [
        {
          "output_type": "stream",
          "name": "stdout",
          "text": [
            "Informe o valor do produto a ser aplicado o desconto de 12%: a\n",
            "O Valor digitado não é um numero.\n",
            "Favor digitar um Valor Valido\n"
          ]
        }
      ]
    },
    {
      "cell_type": "markdown",
      "source": [
        "##LEIA O SALÁRIO DE UM FUNCIONÁRIO. CALCULE E IMPRIMA O VALOR DO NOVO SALÁRIO, SABENDO QUE ELE RECEBEU UM AUMENTO DE 25 %.\n"
      ],
      "metadata": {
        "id": "bxMxkxSBeDS-"
      }
    },
    {
      "cell_type": "code",
      "source": [
        "func=input('Informe o nome do funcionario: ')\n",
        "func.title()\n",
        "while True:  \n",
        "  try:\n",
        "    salario=float(input(f'Informe o salario atual de {func}: R$'))\n",
        "    aumento=(salario*0.25)\n",
        "    novosal=salario+aumento\n",
        "  except ValueError:\n",
        "    print('O salario digitado NÃO É VALIDO.')\n",
        "  break\n",
        "while True:\n",
        "  try:\n",
        "    print(f'O novo salario de {func} é de R${round(novosal, 2)}')\n",
        "    print(f'O aumento foi de R${round(aumento, 2)}')\n",
        "    del aumento,novosal \n",
        "  except NameError:\n",
        "    print(f'Erro ao calcular Novo Salario.')\n",
        "  break \n"
      ],
      "metadata": {
        "id": "QtPGtPj3eJse"
      },
      "execution_count": null,
      "outputs": []
    },
    {
      "cell_type": "markdown",
      "source": [
        "##FAÇA UM PROGRAMA QUE LEIA O VALOR DA HORA DE TRABALHO (EM REAIS) E NÉMERO DE HORAS TRABALHADAS NO MÊS. IMPRIMA O VALOR A SER PAGO AO FUNCIONÁRIO, ADICIONANDO  10 % SOBRE O VALOR CALCULADO\n"
      ],
      "metadata": {
        "id": "Deq8SOQoeKC-"
      }
    },
    {
      "cell_type": "code",
      "source": [],
      "metadata": {
        "id": "zDzPsKgkePWC"
      },
      "execution_count": null,
      "outputs": []
    },
    {
      "cell_type": "markdown",
      "source": [
        "##IMPLEMENTE UM PROGRAMA QUE CALCULE O ANO DE NASCIMENTO DE UMA PESSOA A PARTIR DE SUA IDADE E DO ANO ATUAL.\n"
      ],
      "metadata": {
        "id": "QEB1kQQoeP6Y"
      }
    },
    {
      "cell_type": "code",
      "source": [
        "import datetime as dt\n",
        "while True:  \n",
        "  try:\n",
        "    idade=int(input('Digite a sua idade: '))\n",
        "    if idade>125:\n",
        "      print(f'Idade de {idade} anos é muito avançada, tem certeza que ainda esta vivo?')\n",
        "    if idade<1:\n",
        "      print('Voce não é muito novo para estar digitando?')\n",
        "  except ValueError:\n",
        "    print('A idade digitada NÃO É VALIDA.')\n",
        "  except ValueError:\n",
        "    print('A idade digitada NÃO É VALIDA.')\n",
        "  break\n",
        "data=dt.date(2022,9,18)\n",
        "ano=data.year\n",
        "anonas=ano-idade\n",
        "print(f'Voce nasceu no ano de {anonas}')"
      ],
      "metadata": {
        "id": "YzfMceSReVEQ",
        "colab": {
          "base_uri": "https://localhost:8080/"
        },
        "outputId": "52e7b985-751d-4529-d804-c34019c0520b"
      },
      "execution_count": null,
      "outputs": [
        {
          "output_type": "stream",
          "name": "stdout",
          "text": [
            "Digite a sua idade: 500\n",
            "Idade de 500 anos é muito avançada, tem certeza que ainda esta vivo?\n",
            "Voce nasceu no ano de 1522\n"
          ]
        }
      ]
    },
    {
      "cell_type": "markdown",
      "source": [
        "##ESCREVA UM PROGRAMA QUE LEIA AS COORDENADAS X E Y DE PONTOS NO r² E CALCULE SUA DISTÂNCIA DA ORIGEM (0, 0).\n"
      ],
      "metadata": {
        "id": "7bMwyPrBeVfg"
      }
    },
    {
      "cell_type": "code",
      "source": [
        "while True:  \n",
        "  try:\n",
        "    x=float(input('Digite a Coordenada X: '))\n",
        "    y=float(input('Digite a Coordenada Y: '))\n",
        "    dist =((((0-x)**2)+((0-y)**2))**(1/2))\n",
        "    print(f'A distância entre a origem (0,0) e o ponto de coordenadas ({x},{y})é: {round(dist,2)}')\n",
        "  except ValueError:\n",
        "    print(f'O Valor digitado não é um numero.\\nFavor digitar um Valor Valido')\n",
        "  break"
      ],
      "metadata": {
        "id": "PPuvIq2peajJ",
        "colab": {
          "base_uri": "https://localhost:8080/"
        },
        "outputId": "cf2f4442-a264-4890-ad9f-62b068bb1220"
      },
      "execution_count": null,
      "outputs": [
        {
          "output_type": "stream",
          "name": "stdout",
          "text": [
            "Digite a Coordenada X: 1\n",
            "Digite a Coordenada Y: 3\n",
            "A distância entre a origem (0,0) e o ponto de coordenadas (1.0,3.0)é: 3.16\n"
          ]
        }
      ]
    },
    {
      "cell_type": "markdown",
      "source": [
        "##RECEBA O SALÁRIO - BASE DE UM FUNCIONÁRIO. CALCULE E IMPRIMA O SALÃRIO A RECEBER, SABENDO- SE QUE ESSE FUNCIOÁRIO TEM UMA GRATIFICAÇÃO DE 5 % SOBRE O SALÁRIO- BASE. ALÉM DISSO, ELE PAGA 7 % DE IMPOSTO SOBRE O SALÁRIO- BASE.\n"
      ],
      "metadata": {
        "id": "7EQSEz-Fea7Z"
      }
    },
    {
      "cell_type": "code",
      "source": [
        "while True:  \n",
        "  try:\n",
        "    salario=float(input(f'Informe o salario atual: R$'))\n",
        "  except ValueError:\n",
        "    print('O salario digitado NÃO É VALIDO.')\n",
        "  break\n",
        "bonus=(salario*0.05)\n",
        "imposto=(salario*0.07)\n",
        "novosal=salario+bonus-imposto\n",
        "while True:\n",
        "  try:\n",
        "    print(f'O novo salario é de R${round(novosal, 2)}\\n'\n",
        "          f'A gratificação foi de R${round(bonus, 2)}\\n'\n",
        "          f'E foi descontado R${round(imposto, 2)}')  \n",
        "  except NameError:\n",
        "    print(f'Erro ao calcular Novo Salario.')\n",
        "  break\n",
        "del bonus,novosal,imposto"
      ],
      "metadata": {
        "id": "G6rcK2J1egZS",
        "colab": {
          "base_uri": "https://localhost:8080/"
        },
        "outputId": "c39c0c10-315f-4103-b2c8-af4ec9371d3e"
      },
      "execution_count": null,
      "outputs": [
        {
          "output_type": "stream",
          "name": "stdout",
          "text": [
            "Informe o salario atual: R$hg\n",
            "O salario digitado NÃO É VALIDO.\n",
            "O novo salario é de R$980.0\n",
            "A gratificação foi de R$50.0\n",
            "E foi descontado R$70.0\n"
          ]
        }
      ]
    },
    {
      "cell_type": "markdown",
      "source": [
        "##FAÇA UM PROGRAMA QUE RECEBA DOIS NUMEROS E MOSTRE QUAL DELES É O MAIOR.\n"
      ],
      "metadata": {
        "id": "ykeVDBQKehC7"
      }
    },
    {
      "cell_type": "code",
      "source": [
        "num=[]\n",
        "q=['primeiro','segundo']\n",
        "i=0\n",
        "while i<2:\n",
        "    try:\n",
        "      n=int(input(f'Digite o {q[i]} numero:'))\n",
        "      num.append(n)\n",
        "      i+=1\n",
        "    except ValueError:\n",
        "      print(f'O Valor digitado não é um numero.\\nFavor digitar um Valor Valido')\n",
        "if num[0]>num[1]:\n",
        "   print(f'O maior numero é {num[0]}')\n",
        "if num[0]<num[1]:\n",
        "   print(f'O maior numero é {num[1]}')\n",
        "if num[0]==num[1]:\n",
        "   print(f'Os numeros digitados são iguais')\n"
      ],
      "metadata": {
        "id": "GszF51lMej-z"
      },
      "execution_count": null,
      "outputs": []
    },
    {
      "cell_type": "markdown",
      "source": [
        "##LEIA UM NÚMERO FORNECIDO PELO USUÁRIO. SE ESSE NÚMERO FOR POSITIVO, CALCULE A RAIZ QUADRADA DO NÚMERO. SE O NÚMERO FOR NEGATIVO, MOSTRE UMA MENSAGEM DIZENDO QUE O NÚMERO É INVÁLIDO.\n"
      ],
      "metadata": {
        "id": "zG4vaOMcekWa"
      }
    },
    {
      "cell_type": "code",
      "source": [
        "while True:\n",
        "  try:\n",
        "    x=float(input(f'Digite um numero positivo:'))\n",
        "    raiz=(pow(x,0.5))\n",
        "    print(f'A raiz quadrada de {x} é {round(raiz,2)}')\n",
        "  except:\n",
        "    print('O valor digitado deve ser um numero positivo')\n",
        "  break"
      ],
      "metadata": {
        "id": "ElldDZhTeuyO",
        "colab": {
          "base_uri": "https://localhost:8080/"
        },
        "outputId": "5be1006c-c7cd-4a60-9516-1f5fd723fd38"
      },
      "execution_count": null,
      "outputs": [
        {
          "output_type": "stream",
          "name": "stdout",
          "text": [
            "Digite um numero positivo:-9\n",
            "O valor digitado deve ser um numero positivo\n"
          ]
        }
      ]
    },
    {
      "cell_type": "markdown",
      "source": [
        "##LEIA UM NÚMERO REAL. SE O NÚMERO FOR POSITIVO IMPRIMA A RAIZ QUADRADA.  DO CONTRÁRIO, IMPRIMA O NÚMERO AO QUADRADO.\n"
      ],
      "metadata": {
        "id": "2McWj9z8eq8b"
      }
    },
    {
      "cell_type": "code",
      "source": [
        "while True:\n",
        "  try:\n",
        "    x=float(input(f'Digite um numero: '))\n",
        "    if x>=0:\n",
        "      raiz=(pow(x,0.5))\n",
        "      print(f'A raiz quadrada de {x} é {round(raiz,2)}')\n",
        "    if x<0:\n",
        "      quad=(pow(x,2))\n",
        "      print(f'O valor ao quadrado é {round(quad,2)}')\n",
        "  except ValueError:\n",
        "    print('O valor digitado deve ser um numero')\n",
        "  break "
      ],
      "metadata": {
        "id": "XpTLHD3jen87",
        "colab": {
          "base_uri": "https://localhost:8080/"
        },
        "outputId": "3f84eaac-3cdb-4a24-83b0-0fe6046903e4"
      },
      "execution_count": null,
      "outputs": [
        {
          "output_type": "stream",
          "name": "stdout",
          "text": [
            "Digite um numero: z\n",
            "O valor digitado deve ser um numero positivo\n"
          ]
        }
      ]
    },
    {
      "cell_type": "markdown",
      "source": [
        "##FAÇA UM PROGRAMA QUE RECEBA UM NÚMERO INTEIRO E VERIFIQUE SE ESTE NÚMERO É PAR OU ÍMPAR.\n"
      ],
      "metadata": {
        "id": "ZVhwgYt_evKv"
      }
    },
    {
      "cell_type": "code",
      "source": [
        "while True:\n",
        "  try:\n",
        "    n=int(input('Digite um numero inteiro: '))\n",
        "    m=n%2\n",
        "    if m==0:\n",
        "      print(f'O Numero {n} é Par')\n",
        "    if m!=0:\n",
        "      print(f'O Numero {n} é impar')\n",
        "  except ValueError:\n",
        "    print('O valor digitado deve ser um numero')\n",
        "  break "
      ],
      "metadata": {
        "id": "aySC8NlXeyAc",
        "colab": {
          "base_uri": "https://localhost:8080/"
        },
        "outputId": "d89f3608-0c10-4898-83b7-5917622a6cbd"
      },
      "execution_count": null,
      "outputs": [
        {
          "output_type": "stream",
          "name": "stdout",
          "text": [
            "Digite um numero inteiro: b\n",
            "O valor digitado deve ser um numero\n"
          ]
        }
      ]
    },
    {
      "cell_type": "markdown",
      "source": [
        "##FAÇA UM PROGRAMA QUE RECEBA DOIS NUMEROS E MOSTRE O MAIOR. SE POR ACASO, OS DOIS NÚMEROS FOREM IGUAIS, IMPRIMA A MENSAGEM NÚMEROS IGUAIS.\n"
      ],
      "metadata": {
        "id": "jUCngOweeyaM"
      }
    },
    {
      "cell_type": "code",
      "source": [
        "num=[]\n",
        "q=['primeiro','segundo']\n",
        "i=0\n",
        "while i<2:\n",
        "    try:\n",
        "      n=int(input(f'Digite o {q[i]} numero:'))\n",
        "      num.append(n)\n",
        "      i+=1\n",
        "    except ValueError:\n",
        "      print(f'O Valor digitado não é um numero.\\nFavor digitar um Valor Valido')\n",
        "if num[0]>num[1]:\n",
        "   print(f'O maior numero é {num[0]}')\n",
        "if num[0]<num[1]:\n",
        "   print(f'O maior numero é {num[1]}')\n",
        "if num[0]==num[1]:\n",
        "   print(f'Os numeros digitados são iguais')\n"
      ],
      "metadata": {
        "id": "6NzLY251RgeP"
      },
      "execution_count": null,
      "outputs": []
    },
    {
      "cell_type": "markdown",
      "source": [
        "##LEIA O SALÁRIO DE UM TRABALHADOR E O VALOR DA PRESTAÇÃO DE UM EMPRÉSTIMO. SE A PRESTAÇÃO FOR MAIOR QUE 20 % DO SALÁRIO IMPRIMA: EMPRÉSTIMO NÃO CONCEDIDO, CASO CONTRÁRIO IMPRIMA: EMPRÉSTIMO CONCEDIDO.\n"
      ],
      "metadata": {
        "id": "u2mRipJZe4Fn"
      }
    },
    {
      "cell_type": "code",
      "source": [
        "while True:  \n",
        "  try:\n",
        "    salario=float(input(f'Informe o salario atual: R$'))\n",
        "    i=int(input(f'Informe o percentual de imposto sobre o salario: %'))\n",
        "    parcela=float(input(f'Informe o valor da parcela do emprestimo: R$'))\n",
        "  except ValueError:\n",
        "    print('O valor digitado NÃO É VALIDO.')\n",
        "  break\n",
        "imposto=(i/100)\n",
        "salimp=(salario*imposto)\n",
        "juros=salario*0.2\n",
        "while True:\n",
        "  try:\n",
        "    if salimp<=juros:\n",
        "      print(f'Emprestimo não concedido'\n",
        "          f'E foi descontado R${round(salimp, 2)}\\n'\n",
        "          f'Total de imposto {round(juros, 2)}%')  \n",
        "  except NameError:\n",
        "    print(f'Erro ao calcular Executar.')\n",
        "  break\n"
      ],
      "metadata": {
        "id": "atZZ3xbHe8qX",
        "colab": {
          "base_uri": "https://localhost:8080/"
        },
        "outputId": "7426b52a-dd63-4a8f-f448-5520fbb33206"
      },
      "execution_count": null,
      "outputs": [
        {
          "output_type": "stream",
          "name": "stdout",
          "text": [
            "Informe o salario atual: R$1000\n",
            "Informe o percentual de imposto: %20\n",
            "O salario é de R$1000.0\n",
            "E foi descontado R$200.0\n",
            "Total de imposto 200.0%\n"
          ]
        }
      ]
    },
    {
      "cell_type": "markdown",
      "source": [
        "##LEIA O SALÁRIO DE UM TRABALHADOR E O PERCENTUAL DE IMPOSTO PAGO EM FOLHA. SE O VALOR FOR MAIOR QUE RS 200, 00  IMPRIMA: ACIMA DE RS 200, 00, CASO CONTRARIO IMPRIMA:  ABAIXO DE RS 200, 00.\n"
      ],
      "metadata": {
        "id": "i79kvvrUe8BG"
      }
    },
    {
      "cell_type": "code",
      "source": [],
      "metadata": {
        "id": "ZSgluco8Vjaj"
      },
      "execution_count": null,
      "outputs": []
    },
    {
      "cell_type": "markdown",
      "source": [
        "##LER   UM   NÚMERO   INTEIRO.  SE   O NÚMERO   LIDO FOR   NEGATIVO, ESCREVA A MENSAGEM “NÚMERO INVÁLIDO”.  SE   O NÚMERO FOR   POSITIVO, CALCULAR O LOGARITMO DESTE NUMERO.\n"
      ],
      "metadata": {
        "id": "S9ksctrHeoUz"
      }
    },
    {
      "cell_type": "code",
      "source": [
        "import math as mt\n",
        "while True:\n",
        "  try:\n",
        "    print('------Calculando o logaritimo------\\n1 - log base 2\\n2 - log base 10')\n",
        "    lg=int(input('Selecione uma das opções acima: '))\n",
        "    x=int(input('Digite um numero inteiro positivo: '))\n",
        "    if x<0:\n",
        "      print('O Numero digitado não é valido\\nFavor digitar um numero INTEIRO POSITIVO')\n",
        "    else:\n",
        "      if lg==1:\n",
        "        print('Calulando log2(x)...')\n",
        "        result=mt.log2(x)\n",
        "        print(f'O log2({x}) é {round(result,2)}')\n",
        "      elif lg==2:\n",
        "        print('Calulando log10(x)...')\n",
        "        result=mt.log10(x)\n",
        "        print(f'O log10({x}) é {round(result,2)}')\n",
        "  except ValueError:\n",
        "    print('O valor digitado deve ser um NUMERO!!!')\n",
        "  break "
      ],
      "metadata": {
        "id": "gwkBkGM2fFDG",
        "colab": {
          "base_uri": "https://localhost:8080/"
        },
        "outputId": "37a6f743-bd94-4e9a-8345-aa6b44d83ced"
      },
      "execution_count": null,
      "outputs": [
        {
          "output_type": "stream",
          "name": "stdout",
          "text": [
            "------Calculando o logaritimo------\n",
            "1 - log base 2\n",
            "2 - log base 10\n",
            "Selecione uma das opções acima: 2\n",
            "Digite um numero inteiro positivo: 40\n",
            "Calulando log10(x)...\n",
            "O log10(40) é 1.6\n"
          ]
        }
      ]
    },
    {
      "cell_type": "markdown",
      "source": [
        "##FAÇA UM PROGRAMA QUE LEIA 2 NOTAS DE UM ALUNO, VERIFIQUE SE AS NOTAS SAO VÁLIDAS E EXIBA NA TELA A MÉDIA DESTAS NOTAS. UMA NOTA VÁLIDA DEVE SER, OBRIGATORIAMENTE, UM VALOR ENTRE 0.0 E 10.0, ONDE CASO A NOTA NAO POSSUA UM VALOR VÁLIDO, ESTE FATO DEVE SER INFORMADO AO USUÁRIO E O PROGRAMA TERMINA.\n"
      ],
      "metadata": {
        "id": "vwYMPqNBfFco"
      }
    },
    {
      "cell_type": "code",
      "source": [
        "notas = []\n",
        "i = 1\n",
        "while len(notas)<2:\n",
        "  nota = float(input(f\"Digite aqui a nota da {i}º prova : \"))\n",
        "  if nota>0 and nota < 10:\n",
        "    notas.append(nota)\n",
        "    i+=1\n",
        "  else: \n",
        "    print(\"Nota informada não é valida\\nEncerrando o Programa\")\n",
        "    break\n",
        "\n",
        "  media = sum(notas)/2\n",
        "\n",
        "if media >= .6:\n",
        "  print(f\"APROVADO!!! sua média final foi de {media}\")\n",
        "else:\n",
        "  print(\"REPROVADO\")"
      ],
      "metadata": {
        "colab": {
          "base_uri": "https://localhost:8080/"
        },
        "id": "bdDXZNMYjF9k",
        "outputId": "7ce6bb62-9d13-4484-f1e6-4e2df810b2c1"
      },
      "execution_count": null,
      "outputs": [
        {
          "output_type": "stream",
          "name": "stdout",
          "text": [
            "Digite aqui a nota da prova 1: 6\n",
            "Digite aqui a nota da prova 2: 8\n",
            "APROVADO!!! sua média final foi de 7.0\n"
          ]
        }
      ]
    },
    {
      "cell_type": "markdown",
      "source": [
        "## FAÇA UM ALGORITMO QUE CALCULE A MÉDIA PONDERADA DAS NOTAS DE 3 PROVAS. A PRIMEIRA E A SEGUNDA PROVA TEM PESO 1 E A TERCEIRA TEM PESO 2. AO FINAL, MOSTRAR A MÉDIA DO ALUNO E INDICAR SE O ALUNO FOI APROVADO OU REPROVADO. A NOTA PARA APROVAÇÃO DEVE SER IGUAL OU SUPERIOR A 60 PONTOS.\n"
      ],
      "metadata": {
        "id": "YlC7fIylfKg_"
      }
    },
    {
      "cell_type": "code",
      "source": [
        "notas = []\n",
        "i = 1\n",
        "while len(notas)<2:\n",
        "  nota = int(input(f\"Digite aqui a nota da {i}º prova: \"))\n",
        "  if nota>0 and nota < 100:\n",
        "    notas.append(nota)\n",
        "    i+=1\n",
        "  else: \n",
        "    print(\"Digite um valor valido\")\n",
        "\n",
        "media = sum(notas)/2\n",
        "\n",
        "\n",
        "if media <= 60:\n",
        "  print(f\"Em RECUPERAÇÃO!!! Média igual a {media}\")\n",
        "  rec = int(input('Didite o valor da prova de RECUPERAÇÃO: '))\n",
        "  if media< 60 and rec<60:\n",
        "    print('REPROVADO!!!')\n",
        "  else:\n",
        "    print(f\"APROVADO!!! Média final foi de {rec}\")\n",
        "else:\n",
        "  print(f\"APROVADO!!! Média final foi de {media}\")"
      ],
      "metadata": {
        "id": "HTUoRCfxfNjX",
        "colab": {
          "base_uri": "https://localhost:8080/"
        },
        "outputId": "db8c4163-308c-4de0-bea4-5609c9030de9"
      },
      "execution_count": null,
      "outputs": [
        {
          "output_type": "stream",
          "name": "stdout",
          "text": [
            "Digite aqui a nota da prova 1: 50\n",
            "Digite aqui a nota da prova 2: 50\n",
            "Em RECUPERAÇÃO!!! Média igual a 50.0\n",
            "Didite o valor da prova de RECUPERAÇÃO: 60\n",
            "APROVADO!!! Média final foi de 60\n"
          ]
        }
      ]
    },
    {
      "cell_type": "markdown",
      "source": [
        "##ESCREVA UM ALGORITMO QUE LEIA DOIS NÚMEROS E EXIBA- OS EM ORDEM CRESCENTE.\n"
      ],
      "metadata": {
        "id": "V4hntMH1fQVy"
      }
    },
    {
      "cell_type": "code",
      "source": [
        "lista = []\n",
        "i = 0\n",
        "num = int(input(\"Digite o numero inicial: \"))\n",
        "lim = int(input(\"Digite o numero final: \"))\n",
        "print('inicio')\n",
        "while num <= lim:\n",
        "  lista.append(num)\n",
        "  num+=1 \n",
        "  print(lista[i])\n",
        "  i+=1\n",
        "print('Fim')"
      ],
      "metadata": {
        "id": "K6OaFzYrffbc"
      },
      "execution_count": null,
      "outputs": []
    },
    {
      "cell_type": "markdown",
      "source": [
        "##ESCREVA UM ALGORITMO QUE LEIA UM NÚMERO E EXIBA SEU SUCESSOR.\n"
      ],
      "metadata": {
        "id": "aRROJVBvflQr"
      }
    },
    {
      "cell_type": "code",
      "source": [
        "while True:\n",
        "  try:   \n",
        "    num = int(input(\"Digite um numero: \"))\n",
        "    num+=1 \n",
        "    print(f'O proximo numero é {num}')\n",
        "    i=int(input(\"Para comtinuar digite '1'\\nPara parar digite '0'\\nEscolha: \"))\n",
        "    if i==1:\n",
        "      continue\n",
        "    else:\n",
        "      print('O programa parou!!')\n",
        "      break  \n",
        "  except ValueError:\n",
        "    print('O valor imformado não é um numero inteiro')"
      ],
      "metadata": {
        "id": "AKKNmVdCfmxV",
        "colab": {
          "base_uri": "https://localhost:8080/"
        },
        "outputId": "48ea39dc-4882-4f86-8d33-da147020c7a0"
      },
      "execution_count": null,
      "outputs": [
        {
          "output_type": "stream",
          "name": "stdout",
          "text": [
            "Digite um numero: o\n",
            "O valor imformado não é um numero inteiro\n",
            "Digite um numero: 11\n",
            "O proximo numero é 12\n",
            "Para comtinuar digite '1'\n",
            "Para parar digite '0'\n",
            "Escolha: 1\n",
            "Digite um numero: 13\n",
            "O proximo numero é 14\n",
            "Para comtinuar digite '1'\n",
            "Para parar digite '0'\n",
            "Escolha: 0\n",
            "O programa parou!!\n"
          ]
        }
      ]
    },
    {
      "cell_type": "markdown",
      "source": [
        "##ELABORE UM ALGORITMO QUE DADA A IDADE DE UM NADADOR CLASSIFICA- O EM UMA DAS SEGUINTES CATEGORIAS: INFANTIL A = 5 - 7 ANOS, INFANTIL B = 8 - 10 ANOS, JUVENIL A = 1 1 - 13 ANOS, JUVENIL B = 14 - 17 ANOS, ADULTO = MAIORES DE 18 ANOS.\n"
      ],
      "metadata": {
        "id": "6mH74KSZfnIL"
      }
    },
    {
      "cell_type": "code",
      "source": [
        "while True:\n",
        "  try:\n",
        "    print('--CLASSIFICAÇÃO DE NADADORES--')\n",
        "    nome = str(input('Informe o Nome: '))   \n",
        "    idade = int(input(\"Imforme a idade: \"))\n",
        "    print('------------------------------')\n",
        "    print(f'Nadador(a): {nome}.\\nIdade: {idade}')\n",
        "    if idade < 5:\n",
        "      print('Não possui idade suficiente para nadar!')\n",
        "    elif idade > 5 and idade <=7:\n",
        "      print('Categoria: INFANTIL A')\n",
        "    elif idade > 7 and idade <=10:\n",
        "      print('Categoria: INFANTIL B')\n",
        "    elif idade > 10 and idade <=13:\n",
        "      print('Categoria: JUVENIL A')\n",
        "    elif idade > 13 and idade <=17:\n",
        "      print('Categoria: JUVENIL B')\n",
        "    elif idade > 17:\n",
        "      print('Categoria: ADULTO')\n",
        "    print('------------------------------')\n",
        "    i=int(input(\"Para CONTINUAR digite '1'\\nPara PARAR digite '0'\\nEscolha: \"))\n",
        "    print('------------------------------')\n",
        "    if i==1:\n",
        "      continue\n",
        "    else:\n",
        "      print('O programa parou!!')\n",
        "      break  \n",
        "  except ValueError:\n",
        "    print('A idade imformada não é Valida!')"
      ],
      "metadata": {
        "id": "LB6LZH2gfqJ8"
      },
      "execution_count": null,
      "outputs": []
    },
    {
      "cell_type": "markdown",
      "source": [
        "##FAÇA UM ALGORITMO QUE LEIA OS VALORES A, B, C E IMPRIMA NA TELA SE A SOMA DE A + B É MENOR QUE C.\n"
      ],
      "metadata": {
        "id": "Ljp7x9NwfqiA"
      }
    },
    {
      "cell_type": "code",
      "source": [
        "num = []\n",
        "i = 1\n",
        "while len(num)<2:\n",
        "  ab = int(input(f\"Digite o {i}º numero: \"))\n",
        "  if True:\n",
        "    num.append(ab)\n",
        "    i+=1\n",
        "  else: \n",
        "    print(\"Digite um número valido\")\n",
        "c = int(input(f\"Digite o 3º numero: \"))\n",
        "soma = sum(num)\n",
        "if soma < c:\n",
        "  print(f\"A soma de {num[0]}+{num[1]} é MENOR que {c}\")\n",
        "elif soma > c:\n",
        "  print(f\"A soma de {num[0]}+{num[1]} é Maior que {c}\")\n",
        "else:\n",
        "  print(f\"A soma de {num[0]}+{num[1]} é IGUAL a {c}\")"
      ],
      "metadata": {
        "id": "DpmCHonbfvJE",
        "colab": {
          "base_uri": "https://localhost:8080/"
        },
        "outputId": "87e9bbce-262a-4b2b-9cdc-e4e16ea9c09e"
      },
      "execution_count": null,
      "outputs": [
        {
          "output_type": "stream",
          "name": "stdout",
          "text": [
            "Digite o 1º numero: 10\n",
            "Digite o 2º numero: 10\n",
            "Digite o 3º numero: 1\n",
            "A soma de 10+10 é Maior que 1\n"
          ]
        }
      ]
    },
    {
      "cell_type": "markdown",
      "source": [
        "##FAÇA UM ALGORITMO QUE LEIA UMA VARIÁVEL E SOME 5 CASO SEJA PAR OU SOME 8 CASO SEJA ÍMPAR, IMPRIMIR O RESULTADO DESTA OPERAÇÃO.\n"
      ],
      "metadata": {
        "id": "lPLgt4sGfvu8"
      }
    },
    {
      "cell_type": "code",
      "source": [
        "num = int(input('Digite um número:'))\n",
        "resto = num % 2\n",
        "\n",
        "if resto == 0:\n",
        "  soma = num+5\n",
        "  print(f'O número agora é {soma}')\n",
        "else:\n",
        "  soma = num+8\n",
        "  print(f'O número agora é {soma}')"
      ],
      "metadata": {
        "id": "kL7wRlW_fze9",
        "colab": {
          "base_uri": "https://localhost:8080/"
        },
        "outputId": "019abb11-6c48-4de6-c737-dd4e243e9f37"
      },
      "execution_count": null,
      "outputs": [
        {
          "output_type": "stream",
          "name": "stdout",
          "text": [
            "Digite um número:3\n",
            "O número agora é 11\n"
          ]
        }
      ]
    },
    {
      "cell_type": "markdown",
      "source": [
        "##FAÇA UM ALGORITMO QUE LEIA UMA VARIÁVEL E DIVIDA POR 10 SE ESTIVER NO INTERVALO ENTRE 0 E 100 CASO ESTEJA FORA, DIVIDA POR 2. IMPRIMA O RESULTADO\n"
      ],
      "metadata": {
        "id": "ly7P7cahfy3A"
      }
    },
    {
      "cell_type": "code",
      "source": [
        "print('Se o número estiver no intervalo 0 a 100,'\n",
        "'\\nserá dividido por 10.'\n",
        "'\\nSe o número não estiver nesse intervalo,'\n",
        "'\\nsera dividido por 2')\n",
        "num = float(input('Digite um número:'))\n",
        "if num>=0 and num<=100:\n",
        "  result=num/10\n",
        "  print(f'O resultado é {result}')\n",
        "else:\n",
        "  result = num/2\n",
        "  print(f'O resultado é {result}')"
      ],
      "metadata": {
        "id": "PFdUflgNf6gN",
        "colab": {
          "base_uri": "https://localhost:8080/"
        },
        "outputId": "a5c3952b-f296-494f-e7b3-69978c539fe9"
      },
      "execution_count": null,
      "outputs": [
        {
          "output_type": "stream",
          "name": "stdout",
          "text": [
            "Se o número estiver no intervalo 0 a 100,\n",
            "será dividido por 10.\n",
            "Se o número não estiver nesse intervalo,\n",
            "sera dividido por 2\n",
            "Digite um número:100\n",
            "O resultado é 10.0\n"
          ]
        }
      ]
    },
    {
      "cell_type": "markdown",
      "source": [
        "##CRIE UM ALGORITMO QUE, DADO O NÍVEL DE ALERTA DE RISCO, IMPRIMA SE ELE FOR GRAVE. O NÍVEL DE ALERTA É UM NÚMERO QUE VARIA DE 0 A 10. O NÍVEL É CONSIDERADO GRAVE QUANDO ELE É SUPERIOR A 9.\n"
      ],
      "metadata": {
        "id": "htB9lKZzf7AG"
      }
    },
    {
      "cell_type": "code",
      "source": [
        "print('Alerta de Tempestade'\n",
        "    '\\nApenas uma chuvinha - 0'\n",
        "    '\\nChuva fraca - 1 a 3'\n",
        "    '\\nChuva constante - 4 a 6'\n",
        "    '\\nTemporais - 7 a 9'\n",
        "    '\\nTempestades - 10'\n",
        ")\n",
        "alert = float(input('Informe o nivel de aleta\\nNivel de alerta igual a '))\n",
        "if alert >=0 and alert <=10:\n",
        "  if alert < 1:\n",
        "    print(f'Alerta {alert}, Nem um Risco')\n",
        "  elif alert > 1 and alert <= 3:\n",
        "    print(f'Alerta {alert}, Risco Baixo')\n",
        "  elif alert > 3 and alert <= 6:\n",
        "    print(f'Alerta {alert}, Risco Consideravel')\n",
        "  elif alert > 6 and alert <= 9:\n",
        "    print(f'Alerta {alert}, Risco Elevado')\n",
        "  elif alert > 9:\n",
        "    print(f'Alerta {alert}, Risco Grave')\n",
        "else:\n",
        "  print('Valor informado não é valido')"
      ],
      "metadata": {
        "id": "Km-KAJWAf-Pe",
        "colab": {
          "base_uri": "https://localhost:8080/"
        },
        "outputId": "000077aa-0ea4-44e7-86cd-ed83b2d9f0fb"
      },
      "execution_count": null,
      "outputs": [
        {
          "output_type": "stream",
          "name": "stdout",
          "text": [
            "Alerta de Tempestade\n",
            "Apenas uma chuvinha - 0\n",
            "Chuva fraca - 1 a 3\n",
            "Chuva constante - 4 a 6\n",
            "Temporais - 7 a 9\n",
            "Tempestades - 10\n",
            "Informe o nivel de aleta\n",
            "Nivel de alerta igual a 2\n",
            "Alerta 2.0, Risco Baixo\n"
          ]
        }
      ]
    },
    {
      "cell_type": "markdown",
      "source": [
        "##FAÇA UM PROGRAMA QUE LEIA UM NÚMERO E DIGA SE ELE É DIVISÍVEL POR 2 E POR 3.  USE ESTRUTURA DE DESVIO CONDICIONAL SIMPLES.\n"
      ],
      "metadata": {
        "id": "bwZ_7pUGf-jG"
      }
    },
    {
      "cell_type": "code",
      "source": [
        "i = 1\n",
        "while True:\n",
        "  try:\n",
        "    if i!=0:\n",
        "      num=float(input('Digite um valor: ')) \n",
        "      if (num % 2 == 0) and (num % 3 == 0):\n",
        "        print(f'Divisivel por 2 e por 3, resultados, por 2 = {int(num/2)} e por 3 = {int(num/3)}')\n",
        "      elif(num % 2 == 0):\n",
        "        print(f'Divisivel por 2, resultado, {int(num/2)}')\n",
        "      elif (num % 3 == 0):\n",
        "        print(f'Divisivel por 3, resultado, {int(num/3)}')\n",
        "      else:\n",
        "        print('Nao divisivel por 2 ou 3')\n",
        "      i=int(input('0 - PARAR\\n1 - CONTINUAR\\nEscolha: '))\n",
        "    else:\n",
        "      print('O programa Parou')\n",
        "      break\n",
        "  except ValueError:\n",
        "    print('Valor informado não é valido')\n",
        "\n",
        "  "
      ],
      "metadata": {
        "id": "tMOPiyALgDKO",
        "colab": {
          "base_uri": "https://localhost:8080/"
        },
        "outputId": "c178ff54-25ee-445e-a8c5-35da6d0d9b63"
      },
      "execution_count": null,
      "outputs": [
        {
          "output_type": "stream",
          "name": "stdout",
          "text": [
            "Digite um valor: 50\n",
            "Divisivel por 2, resultado, 25\n",
            "0 - PARAR\n",
            "1 - CONTINUAR\n",
            "Escolha: 1\n",
            "Digite um valor: 69\n",
            "Divisivel por 3, resultado, 23\n",
            "0 - PARAR\n",
            "1 - CONTINUAR\n",
            "Escolha: 66\n",
            "Digite um valor: 55\n",
            "Nao divisivel por 2 ou 3\n",
            "0 - PARAR\n",
            "1 - CONTINUAR\n",
            "Escolha: 0\n",
            "O programa Parou\n"
          ]
        }
      ]
    },
    {
      "cell_type": "markdown",
      "source": [
        "##CALCULE A MÉDIA ARITMÉTICA DAS 3 NOTAS DE UM ALUNO E MOSTRE, ALÉM DO VALOR DA MÉDIA, UMA MENSAGEM DE \" APROVADO\", CASO A MÉDIA SEJA IGUAL OU SUPERIOR A 6, OU A MENSAGEM \" REPROVADO\", CASO CONTRÁRIO.\n"
      ],
      "metadata": {
        "id": "6g89H8XUgDgW"
      }
    },
    {
      "cell_type": "code",
      "source": [
        "notas = []\n",
        "i = 1\n",
        "while len(notas)<3:\n",
        "  nota = float(input(f\"Digite aqui a {i}º nota: \"))\n",
        "  if nota >=0 and nota <= 10:\n",
        "    notas.append(nota)\n",
        "    i+=1\n",
        "  else: \n",
        "    print(\"Digite uma nota valida\")\n",
        "  media = sum(notas)/3\n",
        "if media >= .6:\n",
        "  print(f\"APROVADO!!! Média final igual á {media}\")\n",
        "else:\n",
        "  print(\"REPROVADO\")"
      ],
      "metadata": {
        "id": "tnC80UYhgFCP"
      },
      "execution_count": null,
      "outputs": []
    },
    {
      "cell_type": "markdown",
      "source": [
        "##LEIA A DISTANCIA EM KM E A QUANTIDADE DE LITROS DE GASOLINA CONSUMIDOS POR UM CARRO EM UM PERCURSO, CALCULE O CONSUMO EM KM/ L E ESCREVA UMA MENSAGEM DE ACORDO COM A TABELA ABAIXO: CONSUMO (Km/l) menor que 8 - Venda o carro! entre 8 e 14 - Economico! maior que 12 - Super economico\n"
      ],
      "metadata": {
        "id": "yhRJZe0JgHZ3"
      }
    },
    {
      "cell_type": "code",
      "source": [
        "while True:\n",
        "  litros=float(input('Informe quantos litros foram consumidos: '))\n",
        "  km=float(input('Informe a distancia pecorrida em Km: '))\n",
        "  break\n",
        "consumo=km/litros\n",
        "\n",
        "if(consumo<8):\n",
        "  print(f\"venda o carro, consumo = {consumo}\");\n",
        "elif(consumo>8)and(consumo<14):\n",
        "  print(f\"Economico, consumo = {consumo}\");\n",
        "elif(consumo>12):\n",
        "  print(f\"Super Economico, consumo = {consumo}\");"
      ],
      "metadata": {
        "id": "_v2Hsst6gJuP",
        "colab": {
          "base_uri": "https://localhost:8080/"
        },
        "outputId": "0d606e5b-79f2-4799-c97a-391f1131529e"
      },
      "execution_count": null,
      "outputs": [
        {
          "output_type": "stream",
          "name": "stdout",
          "text": [
            "Informe quantos litros foram consumidos: 10\n",
            "Informe a distancia pecorrida em Km: 1000\n",
            "Super Economico, consumo = 100.0\n"
          ]
        }
      ]
    }
  ]
}