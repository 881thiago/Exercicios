{
  "nbformat": 4,
  "nbformat_minor": 0,
  "metadata": {
    "colab": {
      "provenance": [],
      "collapsed_sections": [],
      "authorship_tag": "ABX9TyNdSoqxwJAMgOWJZYvZV2NK",
      "include_colab_link": true
    },
    "kernelspec": {
      "name": "python3",
      "display_name": "Python 3"
    },
    "language_info": {
      "name": "python"
    }
  },
  "cells": [
    {
      "cell_type": "markdown",
      "metadata": {
        "id": "view-in-github",
        "colab_type": "text"
      },
      "source": [
        "<a href=\"https://colab.research.google.com/github/881thiago/Exercicios/blob/main/Atividade_Jogo1.ipynb\" target=\"_parent\"><img src=\"https://colab.research.google.com/assets/colab-badge.svg\" alt=\"Open In Colab\"/></a>"
      ]
    },
    {
      "cell_type": "markdown",
      "source": [
        "#Crie um jogo em Python onde o computador vai sortear um número de 1 até 100, você vai tentar adivinhar que número foi esse.\n",
        "\n",
        "#A cada tentativa, ele vai te dizer se seu palpite foi alto, baixo ou se você acertou.\n"
      ],
      "metadata": {
        "id": "5TqSIddJaR4g"
      }
    },
    {
      "cell_type": "code",
      "source": [
        "from random import randint\n",
        "dificuldade=int(input('--- Selecione a Dificuldade ---\\n 1 - Facil\\n 2 - Normal\\n 3 - Dificil\\n'))\n",
        "while dificuldade==1 or 2 or 3:\n",
        "  if dificuldade==1:\n",
        "    chances = 10;\n",
        "  elif dificuldade==2:\n",
        "    chances = 5;\n",
        "  elif dificuldade==3:\n",
        "    chances = 3;\n",
        "  else:\n",
        "    print('Selecione uma dificuldade valida') \n",
        "    break;\n",
        "  break;\n",
        "print('-------- Iníciando o jogo --------')\n",
        "print(f'-------Você tem {chances} chances-------')\n",
        "\n",
        "random = randint(0, 100)\n",
        "chute = 0;\n",
        "while chute != random:\n",
        "    print('<<<<<<<<<<<<<<<<<<>>>>>>>>>>>>>>>>>>')\n",
        "    chute = input('Chute um número de 0 a 100: ')\n",
        "    if chute.isnumeric():\n",
        "        chute = int(chute)\n",
        "        chances = chances - 1\n",
        "        if chute == random:\n",
        "            print('<<<<<<<<<<<<<<<<<<>>>>>>>>>>>>>>>>>>')\n",
        "            print(f'Parabéns, VOCÊ VENCEU!\\n O número era {random} e sobraram {chances} chances restantes.')\n",
        "            print('<<<<<<<<<<<<<<<<<<>>>>>>>>>>>>>>>>>>')\n",
        "            break;\n",
        "        else:\n",
        "            if chute > random:\n",
        "                print('Você errou!!!\\nDica: É um número MENOR.')\n",
        "            else:\n",
        "                print('Você errou!!!\\nDica: É um número MAIOR.')\n",
        "            print(f'Você ainda possui {chances} chances.')          \n",
        "        if chances == 0:\n",
        "            print('<<<<<<<<<<<<<<<<<<>>>>>>>>>>>>>>>>>>')            \n",
        "            print(f'Suas chances acabaram\\nO número era {random}\\nVOCÊ PERDEU!')           \n",
        "            break;\n",
        "    else:\n",
        "      print('O valor informado não é um numero inteiro')\n",
        "print('----------- Fim de Jogo ------------')\n"
      ],
      "metadata": {
        "id": "K58jx9iE0MgE",
        "colab": {
          "base_uri": "https://localhost:8080/"
        },
        "outputId": "29ff7588-0c46-43ce-c9f2-1d45010d2294"
      },
      "execution_count": null,
      "outputs": [
        {
          "output_type": "stream",
          "name": "stdout",
          "text": [
            "--- Selecione a Dificuldade ---\n",
            " 1 - Facil\n",
            " 2 - Normal\n",
            " 3 - Dificil\n",
            "2\n",
            "-------- Iníciando o jogo --------\n",
            "-------Você tem 5 chances-------\n",
            "<<<<<<<<<<<<<<<<<<>>>>>>>>>>>>>>>>>>\n",
            "Chute um número de 0 a 100: 50\n",
            "Você errou!!!\n",
            "Dica: É um número MENOR.\n",
            "Você ainda possui 4 chances.\n",
            "<<<<<<<<<<<<<<<<<<>>>>>>>>>>>>>>>>>>\n",
            "Chute um número de 0 a 100: 20\n",
            "Você errou!!!\n",
            "Dica: É um número MAIOR.\n",
            "Você ainda possui 3 chances.\n",
            "<<<<<<<<<<<<<<<<<<>>>>>>>>>>>>>>>>>>\n",
            "Chute um número de 0 a 100: 30\n",
            "Você errou!!!\n",
            "Dica: É um número MAIOR.\n",
            "Você ainda possui 2 chances.\n",
            "<<<<<<<<<<<<<<<<<<>>>>>>>>>>>>>>>>>>\n",
            "Chute um número de 0 a 100: 45\n",
            "Você errou!!!\n",
            "Dica: É um número MENOR.\n",
            "Você ainda possui 1 chances.\n",
            "<<<<<<<<<<<<<<<<<<>>>>>>>>>>>>>>>>>>\n",
            "Chute um número de 0 a 100: 33\n",
            "Você errou!!!\n",
            "Dica: É um número MENOR.\n",
            "Você ainda possui 0 chances.\n",
            "<<<<<<<<<<<<<<<<<<>>>>>>>>>>>>>>>>>>\n",
            "Suas chances acabaram\n",
            "O número era 31\n",
            "VOCÊ PERDEU!\n",
            "----------- Fim de Jogo ------------\n"
          ]
        }
      ]
    },
    {
      "cell_type": "markdown",
      "source": [],
      "metadata": {
        "id": "ykbHNePQPY0D"
      }
    },
    {
      "cell_type": "code",
      "source": [],
      "metadata": {
        "id": "5vBbNfqzPZXW"
      },
      "execution_count": null,
      "outputs": []
    }
  ]
}